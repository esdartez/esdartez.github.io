{
 "cells": [
  {
   "cell_type": "markdown",
   "metadata": {},
   "source": [
    "# Milestone 1"
   ]
  },
  {
   "cell_type": "markdown",
   "metadata": {},
   "source": [
    "## Primary Focus and Background Information"
   ]
  },
  {
   "cell_type": "markdown",
   "metadata": {},
   "source": [
    "My primary focus is investigating the role that L1 expression plays in neurodegenerative diseases and cancers. Transposable elements are sequences of DNA that can change their position witin the genome cause mutations to occur. They have played a significant role in the evolution of genomes and can influence the expression and functions of genes. L1 is a type of autonomous transposable element, which means it can move by itself within the genome. L1s make up about 17% of the human genome and while most of them are no longer active, there are still some that can copy and insert themselves into new loci, which can potentially disrupt genes and contribute to diseases like cancer or Alzheimer's."
   ]
  },
  {
   "cell_type": "markdown",
   "metadata": {},
   "source": [
    "## Potential Datasets"
   ]
  },
  {
   "cell_type": "markdown",
   "metadata": {},
   "source": [
    "I have a list of sequencing datasets that I am considering for analysis. The first one comes from a paper titled \"Untangling the brain's neuroinflammatory and neurodegenerative transcriptional responses\" from Srinivasan et al (2016). This study analyzed transcriptional changes in different cells within the hemicortex due to neurodegenerative diseases such as Alzheimer's. With this sequencing data I hope to answer how L1 expression varies among neurons, astrocytes, and microglia in the hemicortex between neurodegenerative and healthy conditions and whether there is a correlation between Tnfr1 signaling and the regulation of L1 expression in astrocytes within the hemicortex. L1 elements are known to influence genomic stability and have been implicated in neurological disorders in other studies, by examining their expression across multiple cell types, I hope to find insights into their specific roles in neurodegeneration. This paper identified Tnfr1 as an essential signal for astrocytic responses. I hope to investigate the potential influence that it could have over L1 expression and reveal mechanism by which inflammatory signaling pathwats impact transposable element activity in astrocytes. The second dataset comes from \"Both fallopian tube and ovarian surface epithelium are cells-of-origin for high-grade serous ovarian carcinoma\" by Zhang et al (2019). This study address the cell-of-origin debate for high grade serous ovarian carcinoma (HGSOC) by comparing fallopian tube epithelial tissue (FTE) and ovarian surface epithelial tissue (OSE) in genetically engineered mice. This dataset can reveal how L1 expression differs between tumors originating in FTE and OSE in HGSOC models and if L1 expression influences the metastatic potential and chemosensitivity of HGSOC tumors derived from these tissues. Understanding differential L1 activity based on the cell-of-orgin can reveal the distinct molecular pathways involved in tumorigenesis and potentially identify treatment targets. Knowing that L1 elements can potentially affect gene regulation and genomic integrity, their expression might correlate with aggressive behavior and treatment responses of tumors of different origins. The third dataset comes from \"Comparative analysis of syngeneic mouse models of high-grade serous ovarian cancer\" by Cook et al (2023). This study performs a comparative transcriptomic analysis of various HGSOC models, including cell lines and tumor samples. It highlights the differences in signaling pathways, metabolic profiles, and microenvironmental interactions among these. The sequencing data from this paper can reveal the pattern of L1 expression across different HGSOC models and how it associates with different signaling pathways and metabolic processes. It can also reveal how variability in L1 expression correlates with stromal content and microenvironmental factors in the tumor samples. Investigating the relationship between L1 activity and signaling pathways can reveal how transposable elements contribute to the oncogeneic behavior and metabolic adaptations of cancer cells. The microenvironment in tumors plays a critical role in how cancer progresses. Exploring L1 expression in relation to stromal components can reveal how transposable elements interact with non-malignant cells."
   ]
  },
  {
   "cell_type": "markdown",
   "metadata": {},
   "source": [
    "## Extraction, Transform, and Load (ETL)\n",
    "\n",
    "For this demonstration, I am using the differential expression data from the **Cook et al. (2023)** paper, which is available on the Gene Expression Omnibus (GEO) under accession number **GSE242835**.\n",
    "\n",
    "1. **Data Extraction**:  \n",
    "   The RNA-seq data was downloaded in **.fastq** format, containing raw sequencing reads from multiple samples.\n",
    "\n",
    "2. **Data Transformation**:  \n",
    "   - Reads were aligned to the **mm39** mouse reference genome using **STAR**, generating **BAM** files.\n",
    "   - Transposable element (TE) expression was quantified using **TECount**, resulting in a counts dataset in **.cntTable** format.\n",
    "   - **DESeq2** was used to create a normalized counts matrix and differential expression results, output as CSV files.\n",
    "\n",
    "3. **Data Loading**:  \n",
    "   The counts and differential expression datasets were loaded into Python using **pandas** for further analysis."
   ]
  },
  {
   "cell_type": "code",
   "execution_count": 5,
   "metadata": {},
   "outputs": [
    {
     "name": "stdout",
     "output_type": "stream",
     "text": [
      "Requirement already satisfied: pandas in /Users/evandartez/miniconda3/lib/python3.10/site-packages (2.2.3)\n",
      "Requirement already satisfied: pytz>=2020.1 in /Users/evandartez/miniconda3/lib/python3.10/site-packages (from pandas) (2024.1)\n",
      "Requirement already satisfied: python-dateutil>=2.8.2 in /Users/evandartez/miniconda3/lib/python3.10/site-packages (from pandas) (2.8.2)\n",
      "Requirement already satisfied: tzdata>=2022.7 in /Users/evandartez/miniconda3/lib/python3.10/site-packages (from pandas) (2024.2)\n",
      "Requirement already satisfied: numpy>=1.22.4 in /Users/evandartez/miniconda3/lib/python3.10/site-packages (from pandas) (1.26.4)\n",
      "Requirement already satisfied: six>=1.5 in /Users/evandartez/miniconda3/lib/python3.10/site-packages (from python-dateutil>=2.8.2->pandas) (1.16.0)\n"
     ]
    },
    {
     "ename": "ModuleNotFoundError",
     "evalue": "No module named 'pandas'",
     "output_type": "error",
     "traceback": [
      "\u001b[0;31m---------------------------------------------------------------------------\u001b[0m",
      "\u001b[0;31mModuleNotFoundError\u001b[0m                       Traceback (most recent call last)",
      "\u001b[1;32m/Users/evandartez/Final_Tut_6790/Milestone_1.ipynb Cell 8\u001b[0m line \u001b[0;36m2\n\u001b[1;32m      <a href='vscode-notebook-cell:/Users/evandartez/Final_Tut_6790/Milestone_1.ipynb#X12sZmlsZQ%3D%3D?line=0'>1</a>\u001b[0m get_ipython()\u001b[39m.\u001b[39msystem(\u001b[39m'\u001b[39m\u001b[39mpip install pandas\u001b[39m\u001b[39m'\u001b[39m)\n\u001b[0;32m----> <a href='vscode-notebook-cell:/Users/evandartez/Final_Tut_6790/Milestone_1.ipynb#X12sZmlsZQ%3D%3D?line=1'>2</a>\u001b[0m \u001b[39mimport\u001b[39;00m \u001b[39mpandas\u001b[39;00m \u001b[39mas\u001b[39;00m \u001b[39mpd\u001b[39;00m\n\u001b[1;32m      <a href='vscode-notebook-cell:/Users/evandartez/Final_Tut_6790/Milestone_1.ipynb#X12sZmlsZQ%3D%3D?line=2'>3</a>\u001b[0m counts_df \u001b[39m=\u001b[39m pd\u001b[39m.\u001b[39mread_csv(\u001b[39m\"\u001b[39m\u001b[39mcounts_data.csv\u001b[39m\u001b[39m\"\u001b[39m, index_col\u001b[39m=\u001b[39m\u001b[39m0\u001b[39m)\n\u001b[1;32m      <a href='vscode-notebook-cell:/Users/evandartez/Final_Tut_6790/Milestone_1.ipynb#X12sZmlsZQ%3D%3D?line=3'>4</a>\u001b[0m results_df \u001b[39m=\u001b[39m pd\u001b[39m.\u001b[39mread_csv(\u001b[39m\"\u001b[39m\u001b[39mresults_data.csv\u001b[39m\u001b[39m\"\u001b[39m, index_col\u001b[39m=\u001b[39m\u001b[39m0\u001b[39m)\n",
      "\u001b[0;31mModuleNotFoundError\u001b[0m: No module named 'pandas'"
     ]
    }
   ],
   "source": [
    "import pandas as pd\n",
    "counts_df = pd.read_csv(\"counts_data.csv\", index_col=0)\n",
    "results_df = pd.read_csv(\"results_data.csv\", index_col=0)"
   ]
  },
  {
   "cell_type": "code",
   "execution_count": null,
   "metadata": {},
   "outputs": [],
   "source": [
    "# Filter rows where 'LINE' is present in the index for both counts and results DataFrames\n",
    "line_counts_df = counts_df[counts_df.index.str.contains('LINE', case=False)]\n",
    "line_results_df = results_df[results_df.index.str.contains('LINE', case=False)]\n",
    "\n",
    "# Display the reduced DataFrames\n",
    "print(line_counts_df.head())\n",
    "print(line_results_df.head())"
   ]
  },
  {
   "cell_type": "code",
   "execution_count": null,
   "metadata": {},
   "outputs": [],
   "source": [
    "#Check the dytpes in my dataframes\n",
    "print(line_counts_df.dtypes)\n",
    "print(line_results_df.dtypes)"
   ]
  },
  {
   "cell_type": "code",
   "execution_count": 6,
   "metadata": {},
   "outputs": [
    {
     "ename": "NameError",
     "evalue": "name 'line_counts_df' is not defined",
     "output_type": "error",
     "traceback": [
      "\u001b[0;31m---------------------------------------------------------------------------\u001b[0m",
      "\u001b[0;31mNameError\u001b[0m                                 Traceback (most recent call last)",
      "\u001b[1;32m/Users/evandartez/Final_Tut_6790/Milestone_1.ipynb Cell 10\u001b[0m line \u001b[0;36m2\n\u001b[1;32m      <a href='vscode-notebook-cell:/Users/evandartez/Final_Tut_6790/Milestone_1.ipynb#X15sZmlsZQ%3D%3D?line=0'>1</a>\u001b[0m \u001b[39m#Fill in any potential NaNs with 0s\u001b[39;00m\n\u001b[0;32m----> <a href='vscode-notebook-cell:/Users/evandartez/Final_Tut_6790/Milestone_1.ipynb#X15sZmlsZQ%3D%3D?line=1'>2</a>\u001b[0m line_counts_df \u001b[39m=\u001b[39m line_counts_df\u001b[39m.\u001b[39mfillna(\u001b[39m0\u001b[39m)\n\u001b[1;32m      <a href='vscode-notebook-cell:/Users/evandartez/Final_Tut_6790/Milestone_1.ipynb#X15sZmlsZQ%3D%3D?line=2'>3</a>\u001b[0m line_results_df \u001b[39m=\u001b[39m line_results_df\u001b[39m.\u001b[39mfillna(\u001b[39m0\u001b[39m)\n",
      "\u001b[0;31mNameError\u001b[0m: name 'line_counts_df' is not defined"
     ]
    }
   ],
   "source": [
    "#Fill in any potential NaNs with 0s\n",
    "line_counts_df = line_counts_df.fillna(0)\n",
    "line_results_df = line_results_df.fillna(0)"
   ]
  },
  {
   "cell_type": "code",
   "execution_count": null,
   "metadata": {},
   "outputs": [],
   "source": [
    "#Check that the differential expression data is tidy\n",
    "line_results_df.head()"
   ]
  },
  {
   "cell_type": "markdown",
   "metadata": {},
   "source": [
    "1. - Each variable such as **baseMean**, **log2FoldChange**, and **pvalue** are in their own colum\n",
    "2. - Each row represents an observation for a specific LINE element\n",
    "2. - Each observational unit forms a table. The table is exclusive to LINE expression."
   ]
  },
  {
   "cell_type": "markdown",
   "metadata": {},
   "source": [
    "## Exploratory Data Analysis (EDA)\n",
    "Log2FoldChange is a good variable to explore because it quantifies the changes in expression levels betweem the experimental and control samples.\n",
    "Log2 transformation makes the data symmetric. A log2fc of 1 means the expression doubled, -1 means it was halved, and 0 indicates no change. \n",
    "It also compresses large ranges which makes it better to visualize and interpret as the scale is considerably more manageable. \n",
    "With log2 fold change, we can identfiy which elements are upregulated and which are downregulated. "
   ]
  },
  {
   "cell_type": "code",
   "execution_count": 7,
   "metadata": {},
   "outputs": [
    {
     "ename": "ModuleNotFoundError",
     "evalue": "No module named 'matplotlib'",
     "output_type": "error",
     "traceback": [
      "\u001b[0;31m---------------------------------------------------------------------------\u001b[0m",
      "\u001b[0;31mModuleNotFoundError\u001b[0m                       Traceback (most recent call last)",
      "\u001b[1;32m/Users/evandartez/Final_Tut_6790/Milestone_1.ipynb Cell 14\u001b[0m line \u001b[0;36m1\n\u001b[0;32m----> <a href='vscode-notebook-cell:/Users/evandartez/Final_Tut_6790/Milestone_1.ipynb#X23sZmlsZQ%3D%3D?line=0'>1</a>\u001b[0m \u001b[39mimport\u001b[39;00m \u001b[39mmatplotlib\u001b[39;00m\u001b[39m.\u001b[39;00m\u001b[39mpyplot\u001b[39;00m \u001b[39mas\u001b[39;00m \u001b[39mplt\u001b[39;00m\n",
      "\u001b[0;31mModuleNotFoundError\u001b[0m: No module named 'matplotlib'"
     ]
    }
   ],
   "source": [
    "import matplotlib.pyplot as plt"
   ]
  },
  {
   "cell_type": "code",
   "execution_count": null,
   "metadata": {},
   "outputs": [],
   "source": [
    "# Calculate summary statistics for log2FoldChange\n",
    "log2fc_stats = line_results_df['log2FoldChange'].describe()\n",
    "print(\"Log2 Fold Change Summary Statistics:\")\n",
    "print(log2fc_stats)"
   ]
  },
  {
   "cell_type": "code",
   "execution_count": null,
   "metadata": {},
   "outputs": [],
   "source": [
    "# Find the top 5 L1 elements with the largest positive log2 fold changes\n",
    "top_5_positive = line_results_df.nlargest(5, 'log2FoldChange')\n",
    "print(\"\\nTop 5 L1 Elements with Highest Positive Log2 Fold Change:\")\n",
    "print(top_5_positive[['log2FoldChange']])"
   ]
  },
  {
   "cell_type": "code",
   "execution_count": null,
   "metadata": {},
   "outputs": [],
   "source": [
    "# Find the top 5 L1 elements with the largest negative log2 fold changes\n",
    "top_5_negative = line_results_df.nsmallest(5, 'log2FoldChange')\n",
    "print(\"\\nTop 5 L1 Elements with Highest Negative Log2 Fold Change:\")\n",
    "print(top_5_negative[['log2FoldChange']])"
   ]
  },
  {
   "cell_type": "code",
   "execution_count": null,
   "metadata": {},
   "outputs": [],
   "source": [
    "# Plot histogram of log2FoldChange to show distribution\n",
    "plt.figure(figsize=(10, 6))\n",
    "plt.hist(line_results_df['log2FoldChange'], bins=30, color='blue', alpha=0.7)\n",
    "plt.title('Distribution of Log2 Fold Change for LINE Elements')\n",
    "plt.xlabel('Log2 Fold Change')\n",
    "plt.ylabel('Frequency')\n",
    "plt.grid(True)\n",
    "plt.show()"
   ]
  },
  {
   "cell_type": "markdown",
   "metadata": {},
   "source": [
    "This distribution shows that there is little to no change for a majority of the elements in the data set. There is a slight left skew and indicating that there is a subset of elements with a more extreme negative change. There are subsets of elements in this dataset that have more change than the majority and further analysis and exploration of these elements can be performed."
   ]
  },
  {
   "cell_type": "markdown",
   "metadata": {},
   "source": [
    "## Relevant Links\n",
    "- https://www.ncbi.nlm.nih.gov/pmc/articles/PMC6879755/\n",
    "- https://www.ncbi.nlm.nih.gov/pmc/articles/PMC4844685/\n",
    "- https://www.ncbi.nlm.nih.gov/pmc/articles/PMC10643551/ \n",
    "- The above links provide reference to the GEO accession in the data availabilty statement\n",
    "- https://www.ncbi.nlm.nih.gov/geo/\n",
    "- https://esdartez.github.io/"
   ]
  },
  {
   "cell_type": "markdown",
   "metadata": {},
   "source": []
  }
 ],
 "metadata": {
  "kernelspec": {
   "display_name": "Python 3",
   "language": "python",
   "name": "python3"
  },
  "language_info": {
   "codemirror_mode": {
    "name": "ipython",
    "version": 3
   },
   "file_extension": ".py",
   "mimetype": "text/x-python",
   "name": "python",
   "nbconvert_exporter": "python",
   "pygments_lexer": "ipython3",
   "version": "3.10.5"
  },
  "orig_nbformat": 4
 },
 "nbformat": 4,
 "nbformat_minor": 2
}
