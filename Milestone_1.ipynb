{
  "cells": [
    {
      "cell_type": "markdown",
      "metadata": {
        "id": "KM305aXC0uBj"
      },
      "source": [
        "# Milestone 1"
      ]
    },
    {
      "cell_type": "markdown",
      "metadata": {
        "id": "EySQSWMF0uBl"
      },
      "source": [
        "## Primary Focus and Background Information"
      ]
    },
    {
      "cell_type": "markdown",
      "metadata": {
        "id": "COqJWcYF0uBm"
      },
      "source": [
        "My primary focus is investigating the role that L1 expression plays in neurodegenerative diseases and cancers. Transposable elements are sequences of DNA that can change their position witin the genome cause mutations to occur. They have played a significant role in the evolution of genomes and can influence the expression and functions of genes. L1 is a type of autonomous transposable element, which means it can move by itself within the genome. L1s make up about 17% of the human genome and while most of them are no longer active, there are still some that can copy and insert themselves into new loci, which can potentially disrupt genes and contribute to diseases like cancer or Alzheimer's."
      ]
    },
    {
      "cell_type": "markdown",
      "metadata": {
        "id": "S-lHPQ7Z0uBn"
      },
      "source": [
        "## Potential Datasets"
      ]
    },
    {
      "cell_type": "markdown",
      "metadata": {
        "id": "xEyTlpEp0uBo"
      },
      "source": [
        "I have a list of sequencing datasets that I am considering for analysis. The first one comes from a paper titled \"Untangling the brain's neuroinflammatory and neurodegenerative transcriptional responses\" from Srinivasan et al (2016). This study analyzed transcriptional changes in different cells within the hemicortex due to neurodegenerative diseases such as Alzheimer's. With this sequencing data I hope to answer how L1 expression varies among neurons, astrocytes, and microglia in the hemicortex between neurodegenerative and healthy conditions and whether there is a correlation between Tnfr1 signaling and the regulation of L1 expression in astrocytes within the hemicortex. L1 elements are known to influence genomic stability and have been implicated in neurological disorders in other studies, by examining their expression across multiple cell types, I hope to find insights into their specific roles in neurodegeneration. This paper identified Tnfr1 as an essential signal for astrocytic responses. I hope to investigate the potential influence that it could have over L1 expression and reveal mechanism by which inflammatory signaling pathwats impact transposable element activity in astrocytes. The second dataset comes from \"Both fallopian tube and ovarian surface epithelium are cells-of-origin for high-grade serous ovarian carcinoma\" by Zhang et al (2019). This study address the cell-of-origin debate for high grade serous ovarian carcinoma (HGSOC) by comparing fallopian tube epithelial tissue (FTE) and ovarian surface epithelial tissue (OSE) in genetically engineered mice. This dataset can reveal how L1 expression differs between tumors originating in FTE and OSE in HGSOC models and if L1 expression influences the metastatic potential and chemosensitivity of HGSOC tumors derived from these tissues. Understanding differential L1 activity based on the cell-of-orgin can reveal the distinct molecular pathways involved in tumorigenesis and potentially identify treatment targets. Knowing that L1 elements can potentially affect gene regulation and genomic integrity, their expression might correlate with aggressive behavior and treatment responses of tumors of different origins. The third dataset comes from \"Comparative analysis of syngeneic mouse models of high-grade serous ovarian cancer\" by Cook et al (2023). This study performs a comparative transcriptomic analysis of various HGSOC models, including cell lines and tumor samples. It highlights the differences in signaling pathways, metabolic profiles, and microenvironmental interactions among these. The sequencing data from this paper can reveal the pattern of L1 expression across different HGSOC models and how it associates with different signaling pathways and metabolic processes. It can also reveal how variability in L1 expression correlates with stromal content and microenvironmental factors in the tumor samples. Investigating the relationship between L1 activity and signaling pathways can reveal how transposable elements contribute to the oncogeneic behavior and metabolic adaptations of cancer cells. The microenvironment in tumors plays a critical role in how cancer progresses. Exploring L1 expression in relation to stromal components can reveal how transposable elements interact with non-malignant cells."
      ]
    },
    {
      "cell_type": "markdown",
      "metadata": {
        "id": "3Ck3Wz7x0uBp"
      },
      "source": [
        "## Extraction, Transform, and Load (ETL)\n",
        "\n",
        "For this demonstration, I am using the differential expression data from the **Cook et al. (2023)** paper, which is available on the Gene Expression Omnibus (GEO) under accession number **GSE242835**.\n",
        "\n",
        "1. **Data Extraction**:  \n",
        "   The RNA-seq data was downloaded in **.fastq** format, containing raw sequencing reads from multiple samples.\n",
        "\n",
        "2. **Data Transformation**:  \n",
        "   - Reads were aligned to the **mm39** mouse reference genome using **STAR**, generating **BAM** files.\n",
        "   - Transposable element (TE) expression was quantified using **TECount**, resulting in a counts dataset in **.cntTable** format.\n",
        "   - **DESeq2** was used to create a normalized counts matrix and differential expression results, output as CSV files.\n",
        "\n",
        "3. **Data Loading**:  \n",
        "   The counts and differential expression datasets were loaded into Python using **pandas** for further analysis."
      ]
    },
    {
      "cell_type": "code",
      "execution_count": 2,
      "metadata": {
        "id": "Mr7BJ6r_0uBq"
      },
      "outputs": [],
      "source": [
        "import pandas as pd\n",
        "counts_df = pd.read_csv(\"counts_data.csv\", index_col=0)\n",
        "results_df = pd.read_csv(\"results_data.csv\", index_col=0)"
      ]
    },
    {
      "cell_type": "code",
      "execution_count": 3,
      "metadata": {
        "colab": {
          "base_uri": "https://localhost:8080/"
        },
        "id": "bvwNjL4d0uBr",
        "outputId": "eba0f0cb-433e-442d-edb5-ed8b3efc422d"
      },
      "outputs": [
        {
          "name": "stdout",
          "output_type": "stream",
          "text": [
            "                     SRR25999149  SRR25999151  SRR25999150  SRR25999148  \\\n",
            "AmnL2-1:L2:LINE              163           89           70          124   \n",
            "CR1-12_AMi:CR1:LINE            1            0            0            0   \n",
            "CR1-13_AMi:CR1:LINE            0            0            0            0   \n",
            "CR1-16_AMi:CR1:LINE            7            2            8            0   \n",
            "CR1-1_Amn:CR1:LINE             2            0            1            1   \n",
            "\n",
            "                     SRR25999124  SRR25999147  SRR25999121  SRR25999122  \\\n",
            "AmnL2-1:L2:LINE              127          136          117           93   \n",
            "CR1-12_AMi:CR1:LINE            0            0            1            0   \n",
            "CR1-13_AMi:CR1:LINE            0            0            0            0   \n",
            "CR1-16_AMi:CR1:LINE            6            2            2            0   \n",
            "CR1-1_Amn:CR1:LINE             0            1            1            0   \n",
            "\n",
            "                     SRR25999123  SRR25999118  ...  SRR25999093  SRR25999094  \\\n",
            "AmnL2-1:L2:LINE              237          113  ...          194          288   \n",
            "CR1-12_AMi:CR1:LINE            0            0  ...            0            0   \n",
            "CR1-13_AMi:CR1:LINE            0            0  ...            1            0   \n",
            "CR1-16_AMi:CR1:LINE            0            3  ...            9            2   \n",
            "CR1-1_Amn:CR1:LINE             0            1  ...            0            0   \n",
            "\n",
            "                     SRR25999129  SRR25999130  SRR25999095  SRR25999097  \\\n",
            "AmnL2-1:L2:LINE              172          229          276          229   \n",
            "CR1-12_AMi:CR1:LINE            0            3            1            2   \n",
            "CR1-13_AMi:CR1:LINE            0            0            0            0   \n",
            "CR1-16_AMi:CR1:LINE           13            5            7           12   \n",
            "CR1-1_Amn:CR1:LINE             0            0            0            1   \n",
            "\n",
            "                     SRR25999125  SRR25999128  SRR25999126  SRR25999127  \n",
            "AmnL2-1:L2:LINE              191          176          198          248  \n",
            "CR1-12_AMi:CR1:LINE            1            1            0            0  \n",
            "CR1-13_AMi:CR1:LINE            0            0            0            0  \n",
            "CR1-16_AMi:CR1:LINE           23            5            6           28  \n",
            "CR1-1_Amn:CR1:LINE             1            0            0            1  \n",
            "\n",
            "[5 rows x 102 columns]\n",
            "                       baseMean  log2FoldChange      lfcSE      stat  \\\n",
            "AmnL2-1:L2:LINE      135.155826        0.009691   0.296848  0.032646   \n",
            "CR1-12_AMi:CR1:LINE    0.319448       -0.440265   7.335988 -0.060014   \n",
            "CR1-13_AMi:CR1:LINE    0.090787        0.487132  11.997281  0.040604   \n",
            "CR1-16_AMi:CR1:LINE    4.559727       -4.425395   1.471649 -3.007099   \n",
            "CR1-1_Amn:CR1:LINE     0.521322       -1.741648   2.583516 -0.674139   \n",
            "\n",
            "                       pvalue      padj  \n",
            "AmnL2-1:L2:LINE      0.973957  0.982378  \n",
            "CR1-12_AMi:CR1:LINE  0.952144       NaN  \n",
            "CR1-13_AMi:CR1:LINE  0.967612       NaN  \n",
            "CR1-16_AMi:CR1:LINE  0.002638  0.008996  \n",
            "CR1-1_Amn:CR1:LINE   0.500223       NaN  \n"
          ]
        }
      ],
      "source": [
        "# Filter rows where 'LINE' is present in the index for both counts and results DataFrames\n",
        "line_counts_df = counts_df[counts_df.index.str.contains('LINE', case=False)]\n",
        "line_results_df = results_df[results_df.index.str.contains('LINE', case=False)]\n",
        "\n",
        "# Display the reduced DataFrames\n",
        "print(line_counts_df.head())\n",
        "print(line_results_df.head())"
      ]
    },
    {
      "cell_type": "code",
      "execution_count": 4,
      "metadata": {
        "colab": {
          "base_uri": "https://localhost:8080/"
        },
        "id": "D2P-wyDo0uBs",
        "outputId": "1ee39ebd-fdca-44b1-f5b7-6d1aa08dc66f"
      },
      "outputs": [
        {
          "name": "stdout",
          "output_type": "stream",
          "text": [
            "SRR25999149    int64\n",
            "SRR25999151    int64\n",
            "SRR25999150    int64\n",
            "SRR25999148    int64\n",
            "SRR25999124    int64\n",
            "               ...  \n",
            "SRR25999097    int64\n",
            "SRR25999125    int64\n",
            "SRR25999128    int64\n",
            "SRR25999126    int64\n",
            "SRR25999127    int64\n",
            "Length: 102, dtype: object\n",
            "baseMean          float64\n",
            "log2FoldChange    float64\n",
            "lfcSE             float64\n",
            "stat              float64\n",
            "pvalue            float64\n",
            "padj              float64\n",
            "dtype: object\n"
          ]
        }
      ],
      "source": [
        "#Check the dytpes in my dataframes\n",
        "print(line_counts_df.dtypes)\n",
        "print(line_results_df.dtypes)"
      ]
    },
    {
      "cell_type": "code",
      "execution_count": 5,
      "metadata": {
        "id": "dlMX5keD0uBt"
      },
      "outputs": [],
      "source": [
        "#Fill in any potential NaNs with 0s\n",
        "line_counts_df = line_counts_df.fillna(0)\n",
        "line_results_df = line_results_df.fillna(0)"
      ]
    },
    {
      "cell_type": "code",
      "execution_count": 6,
      "metadata": {
        "colab": {
          "base_uri": "https://localhost:8080/",
          "height": 206
        },
        "id": "Wf0cqOBV0uBu",
        "outputId": "86926eba-b656-41bb-dfb1-fe8534356475"
      },
      "outputs": [
        {
          "data": {
            "application/vnd.google.colaboratory.intrinsic+json": {
              "summary": "{\n  \"name\": \"line_results_df\",\n  \"rows\": 192,\n  \"fields\": [\n    {\n      \"column\": \"baseMean\",\n      \"properties\": {\n        \"dtype\": \"number\",\n        \"std\": 1025.5453172923353,\n        \"min\": 0.0907866429334629,\n        \"max\": 11803.3690977878,\n        \"num_unique_values\": 192,\n        \"samples\": [\n          203.086538366155,\n          1698.40754188043,\n          26.8971014772275\n        ],\n        \"semantic_type\": \"\",\n        \"description\": \"\"\n      }\n    },\n    {\n      \"column\": \"log2FoldChange\",\n      \"properties\": {\n        \"dtype\": \"number\",\n        \"std\": 1.0245826253994275,\n        \"min\": -4.42539547548747,\n        \"max\": 2.93401296055268,\n        \"num_unique_values\": 192,\n        \"samples\": [\n          0.0489966767111001,\n          -0.0318050329505003,\n          0.265620920112817\n        ],\n        \"semantic_type\": \"\",\n        \"description\": \"\"\n      }\n    },\n    {\n      \"column\": \"lfcSE\",\n      \"properties\": {\n        \"dtype\": \"number\",\n        \"std\": 1.6719288264169911,\n        \"min\": 0.175018189549698,\n        \"max\": 11.9972805248774,\n        \"num_unique_values\": 192,\n        \"samples\": [\n          0.347782153896802,\n          0.42811648466631,\n          0.58891320823476\n        ],\n        \"semantic_type\": \"\",\n        \"description\": \"\"\n      }\n    },\n    {\n      \"column\": \"stat\",\n      \"properties\": {\n        \"dtype\": \"number\",\n        \"std\": 1.670669925589262,\n        \"min\": -8.14731589510835,\n        \"max\": 4.76055126261277,\n        \"num_unique_values\": 192,\n        \"samples\": [\n          0.140883240160848,\n          -0.0742906056871188,\n          0.451035766219275\n        ],\n        \"semantic_type\": \"\",\n        \"description\": \"\"\n      }\n    },\n    {\n      \"column\": \"pvalue\",\n      \"properties\": {\n        \"dtype\": \"number\",\n        \"std\": 0.3400387809885725,\n        \"min\": 3.72090759471321e-16,\n        \"max\": 0.995318998803863,\n        \"num_unique_values\": 192,\n        \"samples\": [\n          0.887962182496808,\n          0.940779151951897,\n          0.651963771434469\n        ],\n        \"semantic_type\": \"\",\n        \"description\": \"\"\n      }\n    },\n    {\n      \"column\": \"padj\",\n      \"properties\": {\n        \"dtype\": \"number\",\n        \"std\": 0.35582376361902035,\n        \"min\": 0.0,\n        \"max\": 0.997231601095156,\n        \"num_unique_values\": 172,\n        \"samples\": [\n          0.360243333173066,\n          0.754841190666367,\n          0.395983391845722\n        ],\n        \"semantic_type\": \"\",\n        \"description\": \"\"\n      }\n    }\n  ]\n}",
              "type": "dataframe",
              "variable_name": "line_results_df"
            },
            "text/html": [
              "\n",
              "  <div id=\"df-e903afad-0122-4aef-9252-ea6e64ca9d41\" class=\"colab-df-container\">\n",
              "    <div>\n",
              "<style scoped>\n",
              "    .dataframe tbody tr th:only-of-type {\n",
              "        vertical-align: middle;\n",
              "    }\n",
              "\n",
              "    .dataframe tbody tr th {\n",
              "        vertical-align: top;\n",
              "    }\n",
              "\n",
              "    .dataframe thead th {\n",
              "        text-align: right;\n",
              "    }\n",
              "</style>\n",
              "<table border=\"1\" class=\"dataframe\">\n",
              "  <thead>\n",
              "    <tr style=\"text-align: right;\">\n",
              "      <th></th>\n",
              "      <th>baseMean</th>\n",
              "      <th>log2FoldChange</th>\n",
              "      <th>lfcSE</th>\n",
              "      <th>stat</th>\n",
              "      <th>pvalue</th>\n",
              "      <th>padj</th>\n",
              "    </tr>\n",
              "  </thead>\n",
              "  <tbody>\n",
              "    <tr>\n",
              "      <th>AmnL2-1:L2:LINE</th>\n",
              "      <td>135.155826</td>\n",
              "      <td>0.009691</td>\n",
              "      <td>0.296848</td>\n",
              "      <td>0.032646</td>\n",
              "      <td>0.973957</td>\n",
              "      <td>0.982378</td>\n",
              "    </tr>\n",
              "    <tr>\n",
              "      <th>CR1-12_AMi:CR1:LINE</th>\n",
              "      <td>0.319448</td>\n",
              "      <td>-0.440265</td>\n",
              "      <td>7.335988</td>\n",
              "      <td>-0.060014</td>\n",
              "      <td>0.952144</td>\n",
              "      <td>0.000000</td>\n",
              "    </tr>\n",
              "    <tr>\n",
              "      <th>CR1-13_AMi:CR1:LINE</th>\n",
              "      <td>0.090787</td>\n",
              "      <td>0.487132</td>\n",
              "      <td>11.997281</td>\n",
              "      <td>0.040604</td>\n",
              "      <td>0.967612</td>\n",
              "      <td>0.000000</td>\n",
              "    </tr>\n",
              "    <tr>\n",
              "      <th>CR1-16_AMi:CR1:LINE</th>\n",
              "      <td>4.559727</td>\n",
              "      <td>-4.425395</td>\n",
              "      <td>1.471649</td>\n",
              "      <td>-3.007099</td>\n",
              "      <td>0.002638</td>\n",
              "      <td>0.008996</td>\n",
              "    </tr>\n",
              "    <tr>\n",
              "      <th>CR1-1_Amn:CR1:LINE</th>\n",
              "      <td>0.521322</td>\n",
              "      <td>-1.741648</td>\n",
              "      <td>2.583516</td>\n",
              "      <td>-0.674139</td>\n",
              "      <td>0.500223</td>\n",
              "      <td>0.000000</td>\n",
              "    </tr>\n",
              "  </tbody>\n",
              "</table>\n",
              "</div>\n",
              "    <div class=\"colab-df-buttons\">\n",
              "\n",
              "  <div class=\"colab-df-container\">\n",
              "    <button class=\"colab-df-convert\" onclick=\"convertToInteractive('df-e903afad-0122-4aef-9252-ea6e64ca9d41')\"\n",
              "            title=\"Convert this dataframe to an interactive table.\"\n",
              "            style=\"display:none;\">\n",
              "\n",
              "  <svg xmlns=\"http://www.w3.org/2000/svg\" height=\"24px\" viewBox=\"0 -960 960 960\">\n",
              "    <path d=\"M120-120v-720h720v720H120Zm60-500h600v-160H180v160Zm220 220h160v-160H400v160Zm0 220h160v-160H400v160ZM180-400h160v-160H180v160Zm440 0h160v-160H620v160ZM180-180h160v-160H180v160Zm440 0h160v-160H620v160Z\"/>\n",
              "  </svg>\n",
              "    </button>\n",
              "\n",
              "  <style>\n",
              "    .colab-df-container {\n",
              "      display:flex;\n",
              "      gap: 12px;\n",
              "    }\n",
              "\n",
              "    .colab-df-convert {\n",
              "      background-color: #E8F0FE;\n",
              "      border: none;\n",
              "      border-radius: 50%;\n",
              "      cursor: pointer;\n",
              "      display: none;\n",
              "      fill: #1967D2;\n",
              "      height: 32px;\n",
              "      padding: 0 0 0 0;\n",
              "      width: 32px;\n",
              "    }\n",
              "\n",
              "    .colab-df-convert:hover {\n",
              "      background-color: #E2EBFA;\n",
              "      box-shadow: 0px 1px 2px rgba(60, 64, 67, 0.3), 0px 1px 3px 1px rgba(60, 64, 67, 0.15);\n",
              "      fill: #174EA6;\n",
              "    }\n",
              "\n",
              "    .colab-df-buttons div {\n",
              "      margin-bottom: 4px;\n",
              "    }\n",
              "\n",
              "    [theme=dark] .colab-df-convert {\n",
              "      background-color: #3B4455;\n",
              "      fill: #D2E3FC;\n",
              "    }\n",
              "\n",
              "    [theme=dark] .colab-df-convert:hover {\n",
              "      background-color: #434B5C;\n",
              "      box-shadow: 0px 1px 3px 1px rgba(0, 0, 0, 0.15);\n",
              "      filter: drop-shadow(0px 1px 2px rgba(0, 0, 0, 0.3));\n",
              "      fill: #FFFFFF;\n",
              "    }\n",
              "  </style>\n",
              "\n",
              "    <script>\n",
              "      const buttonEl =\n",
              "        document.querySelector('#df-e903afad-0122-4aef-9252-ea6e64ca9d41 button.colab-df-convert');\n",
              "      buttonEl.style.display =\n",
              "        google.colab.kernel.accessAllowed ? 'block' : 'none';\n",
              "\n",
              "      async function convertToInteractive(key) {\n",
              "        const element = document.querySelector('#df-e903afad-0122-4aef-9252-ea6e64ca9d41');\n",
              "        const dataTable =\n",
              "          await google.colab.kernel.invokeFunction('convertToInteractive',\n",
              "                                                    [key], {});\n",
              "        if (!dataTable) return;\n",
              "\n",
              "        const docLinkHtml = 'Like what you see? Visit the ' +\n",
              "          '<a target=\"_blank\" href=https://colab.research.google.com/notebooks/data_table.ipynb>data table notebook</a>'\n",
              "          + ' to learn more about interactive tables.';\n",
              "        element.innerHTML = '';\n",
              "        dataTable['output_type'] = 'display_data';\n",
              "        await google.colab.output.renderOutput(dataTable, element);\n",
              "        const docLink = document.createElement('div');\n",
              "        docLink.innerHTML = docLinkHtml;\n",
              "        element.appendChild(docLink);\n",
              "      }\n",
              "    </script>\n",
              "  </div>\n",
              "\n",
              "\n",
              "<div id=\"df-ee1dcce8-3ae6-4f23-b9a9-1908b8b4de3f\">\n",
              "  <button class=\"colab-df-quickchart\" onclick=\"quickchart('df-ee1dcce8-3ae6-4f23-b9a9-1908b8b4de3f')\"\n",
              "            title=\"Suggest charts\"\n",
              "            style=\"display:none;\">\n",
              "\n",
              "<svg xmlns=\"http://www.w3.org/2000/svg\" height=\"24px\"viewBox=\"0 0 24 24\"\n",
              "     width=\"24px\">\n",
              "    <g>\n",
              "        <path d=\"M19 3H5c-1.1 0-2 .9-2 2v14c0 1.1.9 2 2 2h14c1.1 0 2-.9 2-2V5c0-1.1-.9-2-2-2zM9 17H7v-7h2v7zm4 0h-2V7h2v10zm4 0h-2v-4h2v4z\"/>\n",
              "    </g>\n",
              "</svg>\n",
              "  </button>\n",
              "\n",
              "<style>\n",
              "  .colab-df-quickchart {\n",
              "      --bg-color: #E8F0FE;\n",
              "      --fill-color: #1967D2;\n",
              "      --hover-bg-color: #E2EBFA;\n",
              "      --hover-fill-color: #174EA6;\n",
              "      --disabled-fill-color: #AAA;\n",
              "      --disabled-bg-color: #DDD;\n",
              "  }\n",
              "\n",
              "  [theme=dark] .colab-df-quickchart {\n",
              "      --bg-color: #3B4455;\n",
              "      --fill-color: #D2E3FC;\n",
              "      --hover-bg-color: #434B5C;\n",
              "      --hover-fill-color: #FFFFFF;\n",
              "      --disabled-bg-color: #3B4455;\n",
              "      --disabled-fill-color: #666;\n",
              "  }\n",
              "\n",
              "  .colab-df-quickchart {\n",
              "    background-color: var(--bg-color);\n",
              "    border: none;\n",
              "    border-radius: 50%;\n",
              "    cursor: pointer;\n",
              "    display: none;\n",
              "    fill: var(--fill-color);\n",
              "    height: 32px;\n",
              "    padding: 0;\n",
              "    width: 32px;\n",
              "  }\n",
              "\n",
              "  .colab-df-quickchart:hover {\n",
              "    background-color: var(--hover-bg-color);\n",
              "    box-shadow: 0 1px 2px rgba(60, 64, 67, 0.3), 0 1px 3px 1px rgba(60, 64, 67, 0.15);\n",
              "    fill: var(--button-hover-fill-color);\n",
              "  }\n",
              "\n",
              "  .colab-df-quickchart-complete:disabled,\n",
              "  .colab-df-quickchart-complete:disabled:hover {\n",
              "    background-color: var(--disabled-bg-color);\n",
              "    fill: var(--disabled-fill-color);\n",
              "    box-shadow: none;\n",
              "  }\n",
              "\n",
              "  .colab-df-spinner {\n",
              "    border: 2px solid var(--fill-color);\n",
              "    border-color: transparent;\n",
              "    border-bottom-color: var(--fill-color);\n",
              "    animation:\n",
              "      spin 1s steps(1) infinite;\n",
              "  }\n",
              "\n",
              "  @keyframes spin {\n",
              "    0% {\n",
              "      border-color: transparent;\n",
              "      border-bottom-color: var(--fill-color);\n",
              "      border-left-color: var(--fill-color);\n",
              "    }\n",
              "    20% {\n",
              "      border-color: transparent;\n",
              "      border-left-color: var(--fill-color);\n",
              "      border-top-color: var(--fill-color);\n",
              "    }\n",
              "    30% {\n",
              "      border-color: transparent;\n",
              "      border-left-color: var(--fill-color);\n",
              "      border-top-color: var(--fill-color);\n",
              "      border-right-color: var(--fill-color);\n",
              "    }\n",
              "    40% {\n",
              "      border-color: transparent;\n",
              "      border-right-color: var(--fill-color);\n",
              "      border-top-color: var(--fill-color);\n",
              "    }\n",
              "    60% {\n",
              "      border-color: transparent;\n",
              "      border-right-color: var(--fill-color);\n",
              "    }\n",
              "    80% {\n",
              "      border-color: transparent;\n",
              "      border-right-color: var(--fill-color);\n",
              "      border-bottom-color: var(--fill-color);\n",
              "    }\n",
              "    90% {\n",
              "      border-color: transparent;\n",
              "      border-bottom-color: var(--fill-color);\n",
              "    }\n",
              "  }\n",
              "</style>\n",
              "\n",
              "  <script>\n",
              "    async function quickchart(key) {\n",
              "      const quickchartButtonEl =\n",
              "        document.querySelector('#' + key + ' button');\n",
              "      quickchartButtonEl.disabled = true;  // To prevent multiple clicks.\n",
              "      quickchartButtonEl.classList.add('colab-df-spinner');\n",
              "      try {\n",
              "        const charts = await google.colab.kernel.invokeFunction(\n",
              "            'suggestCharts', [key], {});\n",
              "      } catch (error) {\n",
              "        console.error('Error during call to suggestCharts:', error);\n",
              "      }\n",
              "      quickchartButtonEl.classList.remove('colab-df-spinner');\n",
              "      quickchartButtonEl.classList.add('colab-df-quickchart-complete');\n",
              "    }\n",
              "    (() => {\n",
              "      let quickchartButtonEl =\n",
              "        document.querySelector('#df-ee1dcce8-3ae6-4f23-b9a9-1908b8b4de3f button');\n",
              "      quickchartButtonEl.style.display =\n",
              "        google.colab.kernel.accessAllowed ? 'block' : 'none';\n",
              "    })();\n",
              "  </script>\n",
              "</div>\n",
              "\n",
              "    </div>\n",
              "  </div>\n"
            ],
            "text/plain": [
              "                       baseMean  log2FoldChange      lfcSE      stat  \\\n",
              "AmnL2-1:L2:LINE      135.155826        0.009691   0.296848  0.032646   \n",
              "CR1-12_AMi:CR1:LINE    0.319448       -0.440265   7.335988 -0.060014   \n",
              "CR1-13_AMi:CR1:LINE    0.090787        0.487132  11.997281  0.040604   \n",
              "CR1-16_AMi:CR1:LINE    4.559727       -4.425395   1.471649 -3.007099   \n",
              "CR1-1_Amn:CR1:LINE     0.521322       -1.741648   2.583516 -0.674139   \n",
              "\n",
              "                       pvalue      padj  \n",
              "AmnL2-1:L2:LINE      0.973957  0.982378  \n",
              "CR1-12_AMi:CR1:LINE  0.952144  0.000000  \n",
              "CR1-13_AMi:CR1:LINE  0.967612  0.000000  \n",
              "CR1-16_AMi:CR1:LINE  0.002638  0.008996  \n",
              "CR1-1_Amn:CR1:LINE   0.500223  0.000000  "
            ]
          },
          "execution_count": 6,
          "metadata": {},
          "output_type": "execute_result"
        }
      ],
      "source": [
        "#Check that the differential expression data is tidy\n",
        "line_results_df.head()"
      ]
    },
    {
      "cell_type": "markdown",
      "metadata": {
        "id": "lr0bg_Bf0uBv"
      },
      "source": [
        "1. - Each variable such as **baseMean**, **log2FoldChange**, and **pvalue** are in their own colum\n",
        "2. - Each row represents an observation for a specific LINE element\n",
        "2. - Each observational unit forms a table. The table is exclusive to LINE expression."
      ]
    },
    {
      "cell_type": "markdown",
      "metadata": {
        "id": "Af2MwOsk0uBw"
      },
      "source": [
        "## Exploratory Data Analysis (EDA)\n",
        "Log2FoldChange is a good variable to explore because it quantifies the changes in expression levels between the experimental and control samples.\n",
        "Log2 transformation makes the data symmetric. A log2fc of 1 means the expression doubled, -1 means it was halved, and 0 indicates no change.\n",
        "It also compresses large ranges which makes it better to visualize and interpret as the scale is considerably more manageable.\n",
        "With log2 fold change, we can identfiy which elements are upregulated and which are downregulated."
      ]
    },
    {
      "cell_type": "code",
      "execution_count": 7,
      "metadata": {
        "id": "6S6icIhE0uBw"
      },
      "outputs": [],
      "source": [
        "import matplotlib.pyplot as plt"
      ]
    },
    {
      "cell_type": "code",
      "execution_count": 8,
      "metadata": {
        "colab": {
          "base_uri": "https://localhost:8080/"
        },
        "id": "cQ9T-N3S0uBx",
        "outputId": "0f0d5ef8-58be-42f6-9645-84e2d7da1ce2"
      },
      "outputs": [
        {
          "name": "stdout",
          "output_type": "stream",
          "text": [
            "Log2 Fold Change Summary Statistics:\n",
            "count    192.000000\n",
            "mean      -0.225322\n",
            "std        1.024583\n",
            "min       -4.425395\n",
            "25%       -0.679824\n",
            "50%       -0.160082\n",
            "75%        0.322308\n",
            "max        2.934013\n",
            "Name: log2FoldChange, dtype: float64\n"
          ]
        }
      ],
      "source": [
        "# Calculate summary statistics for log2FoldChange\n",
        "log2fc_stats = line_results_df['log2FoldChange'].describe()\n",
        "print(\"Log2 Fold Change Summary Statistics:\")\n",
        "print(log2fc_stats)"
      ]
    },
    {
      "cell_type": "code",
      "execution_count": 9,
      "metadata": {
        "colab": {
          "base_uri": "https://localhost:8080/"
        },
        "id": "_qM-h2bD0uBx",
        "outputId": "8d7ed03c-49dc-41b3-c995-f57cf26f6630"
      },
      "outputs": [
        {
          "name": "stdout",
          "output_type": "stream",
          "text": [
            "\n",
            "Top 5 L1 Elements with Highest Positive Log2 Fold Change:\n",
            "                              log2FoldChange\n",
            "L1M3f:L1:LINE                       2.934013\n",
            "Penelope1_Vert:Penelope:LINE        1.989399\n",
            "L1_Mur2:L1:LINE                     1.876861\n",
            "MARE6:L1-Tx1:LINE                   1.874589\n",
            "L1Lx_IV:L1:LINE                     1.806322\n"
          ]
        }
      ],
      "source": [
        "# Find the top 5 L1 elements with the largest positive log2 fold changes\n",
        "top_5_positive = line_results_df.nlargest(5, 'log2FoldChange')\n",
        "print(\"\\nTop 5 L1 Elements with Highest Positive Log2 Fold Change:\")\n",
        "print(top_5_positive[['log2FoldChange']])"
      ]
    },
    {
      "cell_type": "code",
      "execution_count": 10,
      "metadata": {
        "colab": {
          "base_uri": "https://localhost:8080/"
        },
        "id": "KtcpQvKR0uBy",
        "outputId": "9503a8a7-58cc-4fd9-a2e7-03f2144f5fe6"
      },
      "outputs": [
        {
          "name": "stdout",
          "output_type": "stream",
          "text": [
            "\n",
            "Top 5 L1 Elements with Highest Negative Log2 Fold Change:\n",
            "                     log2FoldChange\n",
            "CR1-16_AMi:CR1:LINE       -4.425395\n",
            "L1_Mus3:L1:LINE           -4.055679\n",
            "X7B_LINE:CR1:LINE         -3.979945\n",
            "L1MCb:L1:LINE             -3.289859\n",
            "L1M3d:L1:LINE             -2.751148\n"
          ]
        }
      ],
      "source": [
        "# Find the top 5 L1 elements with the largest negative log2 fold changes\n",
        "top_5_negative = line_results_df.nsmallest(5, 'log2FoldChange')\n",
        "print(\"\\nTop 5 L1 Elements with Highest Negative Log2 Fold Change:\")\n",
        "print(top_5_negative[['log2FoldChange']])"
      ]
    },
    {
      "cell_type": "code",
      "execution_count": 11,
      "metadata": {
        "colab": {
          "base_uri": "https://localhost:8080/",
          "height": 564
        },
        "id": "pL48GCak0uBy",
        "outputId": "bd4fbb4e-d495-4b57-ce61-5d75da5272fd"
      },
      "outputs": [
        {
          "data": {
            "image/png": "[encoded data removed]",
            "text/plain": [
              "<Figure size 1000x600 with 1 Axes>"
            ]
          },
          "metadata": {},
          "output_type": "display_data"
        }
      ],
      "source": [
        "# Plot histogram of log2FoldChange to show distribution\n",
        "plt.figure(figsize=(10, 6))\n",
        "plt.hist(line_results_df['log2FoldChange'], bins=30, color='blue', alpha=0.7)\n",
        "plt.title('Distribution of Log2 Fold Change for LINE Elements')\n",
        "plt.xlabel('Log2 Fold Change')\n",
        "plt.ylabel('Frequency')\n",
        "plt.grid(True)\n",
        "plt.show()"
      ]
    },
    {
      "cell_type": "markdown",
      "metadata": {
        "id": "QB0xOMfb0uBz"
      },
      "source": [
        "This distribution shows that there is little to no change for a majority of the elements in the data set. There is a slight left skew and indicating that there is a subset of elements with a more extreme negative change. There are subsets of elements in this dataset that have more change than the majority and further analysis and exploration of these elements can be performed."
      ]
    },
    {
      "cell_type": "markdown",
      "metadata": {
        "id": "Dy3WrG_f0uBz"
      },
      "source": [
        "## Relevant Links\n",
        "- https://www.ncbi.nlm.nih.gov/pmc/articles/PMC6879755/\n",
        "- https://www.ncbi.nlm.nih.gov/pmc/articles/PMC4844685/\n",
        "- https://www.ncbi.nlm.nih.gov/pmc/articles/PMC10643551/\n",
        "- The above links provide reference to the GEO accession in the data availabilty statement\n",
        "- https://www.ncbi.nlm.nih.gov/geo/\n",
        "- https://esdartez.github.io/"
      ]
    },
    {
      "cell_type": "markdown",
      "metadata": {
        "id": "evB2bEYC0uBz"
      },
      "source": []
    }
  ],
  "metadata": {
    "colab": {
      "provenance": []
    },
    "kernelspec": {
      "display_name": "Python 3",
      "language": "python",
      "name": "python3"
    },
    "language_info": {
      "codemirror_mode": {
        "name": "ipython",
        "version": 3
      },
      "file_extension": ".py",
      "mimetype": "text/x-python",
      "name": "python",
      "nbconvert_exporter": "python",
      "pygments_lexer": "ipython3",
      "version": "3.10.5"
    },
    "orig_nbformat": 4
  },
  "nbformat": 4,
  "nbformat_minor": 0
}
